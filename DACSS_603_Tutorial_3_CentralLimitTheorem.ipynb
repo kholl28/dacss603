{
  "nbformat": 4,
  "nbformat_minor": 0,
  "metadata": {
    "colab": {
      "provenance": [],
      "include_colab_link": true
    },
    "kernelspec": {
      "name": "ir",
      "display_name": "R"
    },
    "language_info": {
      "name": "R"
    }
  },
  "cells": [
    {
      "cell_type": "markdown",
      "metadata": {
        "id": "view-in-github",
        "colab_type": "text"
      },
      "source": [
        "<a href=\"https://colab.research.google.com/github/kholl28/dacss603/blob/main/DACSS_603_Tutorial_3_CentralLimitTheorem.ipynb\" target=\"_parent\"><img src=\"https://colab.research.google.com/assets/colab-badge.svg\" alt=\"Open In Colab\"/></a>"
      ]
    },
    {
      "cell_type": "markdown",
      "source": [
        "## **Introduction**\n",
        "  \n",
        "In this week's tutorial, you will learn about the Central Limit Theorem using functions in R. The Central Limit Theorem states that when the sample size is sufficiently large, a sampling distribution of the mean of a random variable will be approximately normally distributed. In most cases, a sample size of 30 or above is considered \"sufficiently large\" for the rule to apply.\n",
        "\n",
        "The Central Limit Theorem is important to us because it allows us to make confident estimates of a population mean, no matter the shape of the population distribution. In addition, the sampling distribution will center about the population mean.\n",
        "\n",
        "## **`Sampling`**\n",
        "\n",
        "Draw 1000 numbers at random from a normal distribution having mean 100 and standard deviation 10. Plot the histogram corresponding to this sample. Use the following R code:"
      ],
      "metadata": {
        "id": "POaYF7J1NajX"
      }
    },
    {
      "cell_type": "code",
      "source": [
        "x <- rnorm(1000, mean = 100, sd = 10)\n",
        "hist(x, prob= TRUE, xlim = c(70, 130))\n",
        "curve(dnorm(x, mean = 100, sd = 10), add= TRUE,lwd= 2,col= \"blue\")"
      ],
      "metadata": {
        "id": "P4zgQ_mSNoxY"
      },
      "execution_count": null,
      "outputs": []
    },
    {
      "cell_type": "markdown",
      "source": [
        "Is the histogram normal in shape? Use the code chunk below to see if the sample mean and standard deviation conforms to the population from which they are drawn:\n",
        "\n",
        "\n"
      ],
      "metadata": {
        "id": "ODEADn9RNnWJ"
      }
    },
    {
      "cell_type": "code",
      "source": [
        "mean(x)\n",
        "sd(x)"
      ],
      "metadata": {
        "id": "VZVcWR_6R_SP"
      },
      "execution_count": null,
      "outputs": []
    },
    {
      "cell_type": "markdown",
      "source": [
        "The population mean was 100 and the standard deviation 10. Are the sample mean and standard deviation approximately equal to that?"
      ],
      "metadata": {
        "id": "4c0t503BSFkH"
      }
    },
    {
      "cell_type": "markdown",
      "source": [
        "Now, let's draw 1000 samples of size 5 from the same distribution and get the mean of each sample."
      ],
      "metadata": {
        "id": "8oiloiK1SbnX"
      }
    },
    {
      "cell_type": "code",
      "source": [
        "size <- 5\n",
        "n_samples <- 1000\n",
        "\n",
        "sample_means <- replicate(n_samples,\n",
        "  expr = {\n",
        "  mean(rnorm(size, mean = 100, sd = 10))\n",
        "  }\n",
        ")\n",
        "\n",
        "\n",
        "hist(sample_means, prob= TRUE, xlim = c(70, 130))\n",
        "curve(dnorm(x, mean = 100, sd = 10), add= TRUE,lwd= 2,col= \"blue\")\n",
        "\n"
      ],
      "metadata": {
        "id": "ojVB6tqkSkFm"
      },
      "execution_count": null,
      "outputs": []
    },
    {
      "cell_type": "markdown",
      "source": [
        "Does the last histogram conform with expectations from the central limit theorem? Is the standard deviation of the sample means (called standard error) smaller or larger than the population mean?"
      ],
      "metadata": {
        "id": "wRV34rt-VCtL"
      }
    },
    {
      "cell_type": "markdown",
      "source": [
        "The central limit theorem tells us that the standard error is $\\frac{\\sigma}{\\sqrt{n}}$, where $\\sigma$ is the population standard deviation and $n$ is the sample size. Our population standard deviation was 10 and sample size is 5. Calculate what the standard error in the code chunk below: (use the sqrt() function):"
      ],
      "metadata": {
        "id": "rQTWB0ssVkcu"
      }
    },
    {
      "cell_type": "code",
      "source": [
        "se <- 10 / sqrt(5)\n",
        "print(se)"
      ],
      "metadata": {
        "id": "9uAMG2UrWQmb"
      },
      "execution_count": null,
      "outputs": []
    },
    {
      "cell_type": "markdown",
      "source": [
        "The sample means are stored in the `sample_means` vector. Calculate the standard deviation to see if the observed standard deviation is close to the standard error estimate from the Central Limit Theorem:"
      ],
      "metadata": {
        "id": "mq9nbc-KWZNO"
      }
    },
    {
      "cell_type": "code",
      "source": [
        "sd(sample_means)"
      ],
      "metadata": {
        "id": "lcDR5M0tWrkM"
      },
      "execution_count": null,
      "outputs": []
    },
    {
      "cell_type": "markdown",
      "source": [
        "In a a normal distribution, 95% of all observations are within 1.96 standard deviations of the mean. Or, to be more precise:"
      ],
      "metadata": {
        "id": "nSwz4M6zXVMu"
      }
    },
    {
      "cell_type": "code",
      "source": [
        "qnorm(0.975)"
      ],
      "metadata": {
        "id": "tLnrWGweXnrA"
      },
      "execution_count": null,
      "outputs": []
    },
    {
      "cell_type": "markdown",
      "source": [
        "Because our sample means are normally distributed, 95% of them should be within 1.96 standard deviations, which is the standard error. Let's see if that's the case:"
      ],
      "metadata": {
        "id": "7NWGnRebYIPd"
      }
    },
    {
      "cell_type": "code",
      "source": [
        "upper <- 100 + qnorm(0.975) * se\n",
        "lower <- 100 - qnorm(0.975) * se # another way of writing this would be as follows # lower <- 100 + qnorm(0.025) * se\n",
        "\n",
        "\n",
        "n_outside <- length(which(sample_means > upper | sample_means < lower)) # number of observations outside of the lower and upper bound\n",
        "n_outside / n_samples\n"
      ],
      "metadata": {
        "id": "yCvGUav4YZUt"
      },
      "execution_count": null,
      "outputs": []
    },
    {
      "cell_type": "markdown",
      "source": [
        "Notice, because the original distribution is normal, the central limit theorem kicks in immediately (the sampling distribution is normal even for small sample sizes like 5). However, when the original distribution is non-normal, a rule of thumb is that 30 observations are needed for the sampling distribution to start looking normal."
      ],
      "metadata": {
        "id": "LXZULm1dZDNK"
      }
    },
    {
      "cell_type": "markdown",
      "source": [
        "Your turn: Change the sample size to 20, draw 1000 samples from the same distribution (mean 100 and sd 10). How does the sampling distribution of the sample mean change? What is the standard error now? Is the observed standard error close enough?"
      ],
      "metadata": {
        "id": "MRSENgg9W-5Z"
      }
    },
    {
      "cell_type": "code",
      "source": [
        "# Write your code here\n",
        "\n"
      ],
      "metadata": {
        "id": "RQtCmQ_-2873"
      },
      "execution_count": null,
      "outputs": []
    },
    {
      "cell_type": "markdown",
      "source": [
        "## **`Sample of Sample Means`**\n",
        "\n",
        "### **`Uniform Distribution`**\n",
        "\n",
        "Now, let’s produce a sample of sample means after repeated sampling of 100 numbers from the Uniform distribution with mean = 0, and standard deviation = 1. We will find the mean of these 100 numbers in our sample and append the mean to a variable x_bar (which is a vector) after repeating this experiment 500 times. Lastly, we will plot the histogram of sample means. Run the following R chunk. Is the histogram normal in shape? What is the center of the histogram of sample means?"
      ],
      "metadata": {
        "id": "h8G4kExLPJjH"
      }
    },
    {
      "cell_type": "code",
      "source": [
        "n_experiment <- 500\n",
        "sample_size <- 100\n",
        "\n",
        "x_bar <- replicate(n_experiment,\n",
        "  expr = {\n",
        "  mean(runif(sample_size))\n",
        "  }\n",
        ")\n",
        "\n",
        "hist(x_bar)"
      ],
      "metadata": {
        "id": "2mwjdOqnPMhC"
      },
      "execution_count": null,
      "outputs": []
    },
    {
      "cell_type": "markdown",
      "source": [
        "What is the “mean of sample means”?"
      ],
      "metadata": {
        "id": "C4O53zJzPQs9"
      }
    },
    {
      "cell_type": "code",
      "source": [
        "mean(x_bar)"
      ],
      "metadata": {
        "id": "F8I7QAYIPTv6"
      },
      "execution_count": null,
      "outputs": []
    },
    {
      "cell_type": "markdown",
      "source": [
        "What do you observe about the shape of the histogram when the sample size is 1, 3, 10, 30? In particular, does the rule of thumb mentioned above seem plausible to you?"
      ],
      "metadata": {
        "id": "TKbcgtL9PVhD"
      }
    },
    {
      "cell_type": "code",
      "source": [
        "# Write your code here\n",
        "\n"
      ],
      "metadata": {
        "id": "TPmDq5GxPXOg"
      },
      "execution_count": null,
      "outputs": []
    },
    {
      "cell_type": "markdown",
      "source": [
        "### **`Poisson Distribution`**\n",
        "\n",
        "Now, let’s produce a sample of sample means after repeated sampling of 100 numbers from the Poisson distribution with lambda = 7. We will find the mean of these 100 numbers in our sample and append the mean to a variable x_bar (which is a vector) after repeating this experiment 500 times. Lastly, we will plot the histogram of sample means. Run the following R chunk. Is the histogram normal in shape? What is the center of the histogram of sample means?"
      ],
      "metadata": {
        "id": "NYqtGua8PX1K"
      }
    },
    {
      "cell_type": "code",
      "source": [
        "n_experiment <- 500\n",
        "sample_size <- 100\n",
        "lambda <- 7\n",
        "\n",
        "\n",
        "x_bar <- replicate(n_experiment,\n",
        "  expr = {\n",
        "  mean(rpois(sample_size, lambda))\n",
        "  }\n",
        ")\n",
        "\n",
        "hist(x_bar)"
      ],
      "metadata": {
        "id": "pUPVhAuNPfk7",
        "outputId": "196615c7-c20b-4ef1-c3b3-398fad10347d",
        "colab": {
          "base_uri": "https://localhost:8080/",
          "height": 437
        }
      },
      "execution_count": null,
      "outputs": [
        {
          "output_type": "display_data",
          "data": {
            "text/plain": [
              "Plot with title “Histogram of x_bar”"
            ],
            "image/png": "[encoded data removed]"
          },
          "metadata": {
            "image/png": {
              "width": 420,
              "height": 420
            }
          }
        }
      ]
    },
    {
      "cell_type": "markdown",
      "source": [
        "What is the “mean of sample means”?"
      ],
      "metadata": {
        "id": "8MolHUU6PhpY"
      }
    },
    {
      "cell_type": "code",
      "source": [
        "# Write your code here\n",
        "\n",
        "mean(x_bar)"
      ],
      "metadata": {
        "id": "ztOFB0_iPi3o"
      },
      "execution_count": null,
      "outputs": []
    },
    {
      "cell_type": "markdown",
      "source": [
        "What do you observe about the shape of the histogram when the sample size is 1, 3, 10, 30?"
      ],
      "metadata": {
        "id": "RNI18TQpPkWJ"
      }
    },
    {
      "cell_type": "code",
      "source": [
        "# Write your code here\n",
        "\n"
      ],
      "metadata": {
        "id": "mmIOO1yrPl-Y"
      },
      "execution_count": null,
      "outputs": []
    },
    {
      "cell_type": "markdown",
      "source": [
        "In the Poisson distribution, lambda is both the mean and the **variance**. By specifying lambda, we know the population variance and thus standard deviation (which is the **square root of variance**). Because we know the sample size, we can also calculate the standard error.\n",
        "\n",
        "Below, 1) calculate what the standard error of the sample mean should be for samples drawn from a Poisson distribution with a lambda of 7 and sample size of 30. 2) draw 1000 samples of size 30 from a Poisson distribution with lambda of 7, calculate its standard deviation. Are the two quantities similar?"
      ],
      "metadata": {
        "id": "MVviPOX2c82J"
      }
    },
    {
      "cell_type": "code",
      "source": [
        "# Write your code here\n",
        "\n",
        "\n"
      ],
      "metadata": {
        "id": "W0WPh0IHdtaD"
      },
      "execution_count": null,
      "outputs": []
    }
  ]
}